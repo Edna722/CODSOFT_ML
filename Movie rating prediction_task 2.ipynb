{
 "cells": [
  {
   "cell_type": "markdown",
   "metadata": {},
   "source": [
    "## `MOVIE RATING REDICTION WITH PYTHON` "
   ]
  },
  {
   "cell_type": "markdown",
   "metadata": {},
   "source": [
    "# 1)  Introduction"
   ]
  },
  {
   "cell_type": "markdown",
   "metadata": {},
   "source": [
    "### 1.1)Project Overview"
   ]
  },
  {
   "cell_type": "markdown",
   "metadata": {},
   "source": [
    "* Movie Rating Prediction project enables you to explore data\n",
    "analysis, preprocessing, feature engineering, and machine\n",
    "learning modeling techniques. It provides insights into the factors\n",
    "that influence movie ratings and allows you to build a model that\n",
    "can estimate the ratings of movies accurately."
   ]
  },
  {
   "cell_type": "markdown",
   "metadata": {},
   "source": [
    "### 1.2) Problem Statement"
   ]
  },
  {
   "cell_type": "markdown",
   "metadata": {},
   "source": [
    "* Build a model that predicts the rating of a movie based on\n",
    "features like genre, director, and actors. You can use regression\n",
    "techniques to tackle this problem.\n",
    "The goal is to analyze historical movie data and develop a model\n",
    "that accurately estimates the rating given to a movie by users or\n",
    "critics."
   ]
  },
  {
   "cell_type": "markdown",
   "metadata": {},
   "source": [
    "### Load the required libraries "
   ]
  },
  {
   "cell_type": "code",
   "execution_count": 135,
   "metadata": {},
   "outputs": [],
   "source": [
    "import pandas as pd\n",
    "import numpy as np \n",
    "import matplotlib.pyplot as plt \n",
    "import seaborn as sns \n",
    "%matplotlib inline \n",
    "\n",
    "from sklearn.impute import SimpleImputer\n",
    "from sklearn.preprocessing import OneHotEncoder, StandardScaler\n",
    "from sklearn.model_selection import train_test_split\n",
    "from sklearn.ensemble import RandomForestRegressor\n",
    "from sklearn.pipeline import Pipeline\n"
   ]
  },
  {
   "cell_type": "markdown",
   "metadata": {},
   "source": [
    "###  Data Munging "
   ]
  },
  {
   "cell_type": "code",
   "execution_count": 89,
   "metadata": {},
   "outputs": [
    {
     "data": {
      "text/html": [
       "<div>\n",
       "<style scoped>\n",
       "    .dataframe tbody tr th:only-of-type {\n",
       "        vertical-align: middle;\n",
       "    }\n",
       "\n",
       "    .dataframe tbody tr th {\n",
       "        vertical-align: top;\n",
       "    }\n",
       "\n",
       "    .dataframe thead th {\n",
       "        text-align: right;\n",
       "    }\n",
       "</style>\n",
       "<table border=\"1\" class=\"dataframe\">\n",
       "  <thead>\n",
       "    <tr style=\"text-align: right;\">\n",
       "      <th></th>\n",
       "      <th>Name</th>\n",
       "      <th>Year</th>\n",
       "      <th>Duration</th>\n",
       "      <th>Genre</th>\n",
       "      <th>Rating</th>\n",
       "      <th>Votes</th>\n",
       "      <th>Director</th>\n",
       "      <th>Actor 1</th>\n",
       "      <th>Actor 2</th>\n",
       "      <th>Actor 3</th>\n",
       "    </tr>\n",
       "  </thead>\n",
       "  <tbody>\n",
       "    <tr>\n",
       "      <th>0</th>\n",
       "      <td></td>\n",
       "      <td>NaN</td>\n",
       "      <td>NaN</td>\n",
       "      <td>Drama</td>\n",
       "      <td>NaN</td>\n",
       "      <td>NaN</td>\n",
       "      <td>J.S. Randhawa</td>\n",
       "      <td>Manmauji</td>\n",
       "      <td>Birbal</td>\n",
       "      <td>Rajendra Bhatia</td>\n",
       "    </tr>\n",
       "    <tr>\n",
       "      <th>1</th>\n",
       "      <td>#Gadhvi (He thought he was Gandhi)</td>\n",
       "      <td>(2019)</td>\n",
       "      <td>109 min</td>\n",
       "      <td>Drama</td>\n",
       "      <td>7.0</td>\n",
       "      <td>8</td>\n",
       "      <td>Gaurav Bakshi</td>\n",
       "      <td>Rasika Dugal</td>\n",
       "      <td>Vivek Ghamande</td>\n",
       "      <td>Arvind Jangid</td>\n",
       "    </tr>\n",
       "    <tr>\n",
       "      <th>2</th>\n",
       "      <td>#Homecoming</td>\n",
       "      <td>(2021)</td>\n",
       "      <td>90 min</td>\n",
       "      <td>Drama, Musical</td>\n",
       "      <td>NaN</td>\n",
       "      <td>NaN</td>\n",
       "      <td>Soumyajit Majumdar</td>\n",
       "      <td>Sayani Gupta</td>\n",
       "      <td>Plabita Borthakur</td>\n",
       "      <td>Roy Angana</td>\n",
       "    </tr>\n",
       "    <tr>\n",
       "      <th>3</th>\n",
       "      <td>#Yaaram</td>\n",
       "      <td>(2019)</td>\n",
       "      <td>110 min</td>\n",
       "      <td>Comedy, Romance</td>\n",
       "      <td>4.4</td>\n",
       "      <td>35</td>\n",
       "      <td>Ovais Khan</td>\n",
       "      <td>Prateik</td>\n",
       "      <td>Ishita Raj</td>\n",
       "      <td>Siddhant Kapoor</td>\n",
       "    </tr>\n",
       "    <tr>\n",
       "      <th>4</th>\n",
       "      <td>...And Once Again</td>\n",
       "      <td>(2010)</td>\n",
       "      <td>105 min</td>\n",
       "      <td>Drama</td>\n",
       "      <td>NaN</td>\n",
       "      <td>NaN</td>\n",
       "      <td>Amol Palekar</td>\n",
       "      <td>Rajat Kapoor</td>\n",
       "      <td>Rituparna Sengupta</td>\n",
       "      <td>Antara Mali</td>\n",
       "    </tr>\n",
       "    <tr>\n",
       "      <th>...</th>\n",
       "      <td>...</td>\n",
       "      <td>...</td>\n",
       "      <td>...</td>\n",
       "      <td>...</td>\n",
       "      <td>...</td>\n",
       "      <td>...</td>\n",
       "      <td>...</td>\n",
       "      <td>...</td>\n",
       "      <td>...</td>\n",
       "      <td>...</td>\n",
       "    </tr>\n",
       "    <tr>\n",
       "      <th>15504</th>\n",
       "      <td>Zulm Ko Jala Doonga</td>\n",
       "      <td>(1988)</td>\n",
       "      <td>NaN</td>\n",
       "      <td>Action</td>\n",
       "      <td>4.6</td>\n",
       "      <td>11</td>\n",
       "      <td>Mahendra Shah</td>\n",
       "      <td>Naseeruddin Shah</td>\n",
       "      <td>Sumeet Saigal</td>\n",
       "      <td>Suparna Anand</td>\n",
       "    </tr>\n",
       "    <tr>\n",
       "      <th>15505</th>\n",
       "      <td>Zulmi</td>\n",
       "      <td>(1999)</td>\n",
       "      <td>129 min</td>\n",
       "      <td>Action, Drama</td>\n",
       "      <td>4.5</td>\n",
       "      <td>655</td>\n",
       "      <td>Kuku Kohli</td>\n",
       "      <td>Akshay Kumar</td>\n",
       "      <td>Twinkle Khanna</td>\n",
       "      <td>Aruna Irani</td>\n",
       "    </tr>\n",
       "    <tr>\n",
       "      <th>15506</th>\n",
       "      <td>Zulmi Raj</td>\n",
       "      <td>(2005)</td>\n",
       "      <td>NaN</td>\n",
       "      <td>Action</td>\n",
       "      <td>NaN</td>\n",
       "      <td>NaN</td>\n",
       "      <td>Kiran Thej</td>\n",
       "      <td>Sangeeta Tiwari</td>\n",
       "      <td>NaN</td>\n",
       "      <td>NaN</td>\n",
       "    </tr>\n",
       "    <tr>\n",
       "      <th>15507</th>\n",
       "      <td>Zulmi Shikari</td>\n",
       "      <td>(1988)</td>\n",
       "      <td>NaN</td>\n",
       "      <td>Action</td>\n",
       "      <td>NaN</td>\n",
       "      <td>NaN</td>\n",
       "      <td>NaN</td>\n",
       "      <td>NaN</td>\n",
       "      <td>NaN</td>\n",
       "      <td>NaN</td>\n",
       "    </tr>\n",
       "    <tr>\n",
       "      <th>15508</th>\n",
       "      <td>Zulm-O-Sitam</td>\n",
       "      <td>(1998)</td>\n",
       "      <td>130 min</td>\n",
       "      <td>Action, Drama</td>\n",
       "      <td>6.2</td>\n",
       "      <td>20</td>\n",
       "      <td>K.C. Bokadia</td>\n",
       "      <td>Dharmendra</td>\n",
       "      <td>Jaya Prada</td>\n",
       "      <td>Arjun Sarja</td>\n",
       "    </tr>\n",
       "  </tbody>\n",
       "</table>\n",
       "<p>15509 rows × 10 columns</p>\n",
       "</div>"
      ],
      "text/plain": [
       "                                     Name    Year Duration            Genre  \\\n",
       "0                                             NaN      NaN            Drama   \n",
       "1      #Gadhvi (He thought he was Gandhi)  (2019)  109 min            Drama   \n",
       "2                             #Homecoming  (2021)   90 min   Drama, Musical   \n",
       "3                                 #Yaaram  (2019)  110 min  Comedy, Romance   \n",
       "4                       ...And Once Again  (2010)  105 min            Drama   \n",
       "...                                   ...     ...      ...              ...   \n",
       "15504                 Zulm Ko Jala Doonga  (1988)      NaN           Action   \n",
       "15505                               Zulmi  (1999)  129 min    Action, Drama   \n",
       "15506                           Zulmi Raj  (2005)      NaN           Action   \n",
       "15507                       Zulmi Shikari  (1988)      NaN           Action   \n",
       "15508                        Zulm-O-Sitam  (1998)  130 min    Action, Drama   \n",
       "\n",
       "       Rating Votes            Director           Actor 1             Actor 2  \\\n",
       "0         NaN   NaN       J.S. Randhawa          Manmauji              Birbal   \n",
       "1         7.0     8       Gaurav Bakshi      Rasika Dugal      Vivek Ghamande   \n",
       "2         NaN   NaN  Soumyajit Majumdar      Sayani Gupta   Plabita Borthakur   \n",
       "3         4.4    35          Ovais Khan           Prateik          Ishita Raj   \n",
       "4         NaN   NaN        Amol Palekar      Rajat Kapoor  Rituparna Sengupta   \n",
       "...       ...   ...                 ...               ...                 ...   \n",
       "15504     4.6    11       Mahendra Shah  Naseeruddin Shah       Sumeet Saigal   \n",
       "15505     4.5   655          Kuku Kohli      Akshay Kumar      Twinkle Khanna   \n",
       "15506     NaN   NaN          Kiran Thej   Sangeeta Tiwari                 NaN   \n",
       "15507     NaN   NaN                 NaN               NaN                 NaN   \n",
       "15508     6.2    20        K.C. Bokadia        Dharmendra          Jaya Prada   \n",
       "\n",
       "               Actor 3  \n",
       "0      Rajendra Bhatia  \n",
       "1        Arvind Jangid  \n",
       "2           Roy Angana  \n",
       "3      Siddhant Kapoor  \n",
       "4          Antara Mali  \n",
       "...                ...  \n",
       "15504    Suparna Anand  \n",
       "15505      Aruna Irani  \n",
       "15506              NaN  \n",
       "15507              NaN  \n",
       "15508      Arjun Sarja  \n",
       "\n",
       "[15509 rows x 10 columns]"
      ]
     },
     "execution_count": 89,
     "metadata": {},
     "output_type": "execute_result"
    }
   ],
   "source": [
    "movie_data = pd.read_csv(r\"C:\\Users\\wanji\\Desktop\\Data\\archive (9)\\IMDb Movies India.csv\", encoding='ISO-8859-1')\n",
    "movie_data"
   ]
  },
  {
   "cell_type": "markdown",
   "metadata": {},
   "source": [
    "####  Understanding the dataset: \n",
    "* `Dataset Info`\n",
    "* `Shape`\n",
    "* `Columns,Columns names and data types`"
   ]
  },
  {
   "cell_type": "code",
   "execution_count": 90,
   "metadata": {},
   "outputs": [
    {
     "name": "stdout",
     "output_type": "stream",
     "text": [
      "<class 'pandas.core.frame.DataFrame'>\n",
      "RangeIndex: 15509 entries, 0 to 15508\n",
      "Data columns (total 10 columns):\n",
      " #   Column    Non-Null Count  Dtype  \n",
      "---  ------    --------------  -----  \n",
      " 0   Name      15509 non-null  object \n",
      " 1   Year      14981 non-null  object \n",
      " 2   Duration  7240 non-null   object \n",
      " 3   Genre     13632 non-null  object \n",
      " 4   Rating    7919 non-null   float64\n",
      " 5   Votes     7920 non-null   object \n",
      " 6   Director  14984 non-null  object \n",
      " 7   Actor 1   13892 non-null  object \n",
      " 8   Actor 2   13125 non-null  object \n",
      " 9   Actor 3   12365 non-null  object \n",
      "dtypes: float64(1), object(9)\n",
      "memory usage: 1.2+ MB\n",
      "None\n"
     ]
    }
   ],
   "source": [
    "# Function to know the info of the datasets\n",
    "def create_dataset_info(dataset):\n",
    "    if isinstance(dataset, pd.DataFrame):\n",
    "        info = dataset.info()\n",
    "        return info\n",
    "    else:\n",
    "        return \"Invalid dataset type. Please provide a Pandas DataFrame.\"\n",
    "# Assuming you have a dataset named 'sales_data'\n",
    "dataset_info = create_dataset_info(movie_data)\n",
    "print(dataset_info)\n"
   ]
  },
  {
   "cell_type": "code",
   "execution_count": 91,
   "metadata": {},
   "outputs": [
    {
     "name": "stdout",
     "output_type": "stream",
     "text": [
      "Dataset shape: (15509, 10)\n"
     ]
    }
   ],
   "source": [
    "# Function to know the shape \n",
    "def check_dataset_shape(dataset):\n",
    "    if isinstance(dataset, np.ndarray):\n",
    "        print(\"Dataset shape:\", dataset.shape)\n",
    "    elif isinstance(dataset, pd.DataFrame):\n",
    "        print(\"Dataset shape:\", dataset.shape)\n",
    "    else:\n",
    "        print(\"Invalid dataset type. Please provide a NumPy array or a Pandas DataFrame.\")\n",
    "        \n",
    "check_dataset_shape(movie_data)"
   ]
  },
  {
   "cell_type": "markdown",
   "metadata": {},
   "source": [
    "The dataset contains 15509 rows and 10 columns"
   ]
  },
  {
   "cell_type": "code",
   "execution_count": 92,
   "metadata": {},
   "outputs": [
    {
     "name": "stdout",
     "output_type": "stream",
     "text": [
      "            Rating\n",
      "count  7919.000000\n",
      "mean      5.841621\n",
      "std       1.381777\n",
      "min       1.100000\n",
      "25%       4.900000\n",
      "50%       6.000000\n",
      "75%       6.800000\n",
      "max      10.000000\n"
     ]
    }
   ],
   "source": [
    "# Function to know statistics\n",
    "def get_dataset_statistics_describe(dataset):\n",
    "\n",
    "    dataset_describe = dataset.describe()\n",
    "    print(dataset_describe)\n",
    "\n",
    "\n",
    "# Call the function to get information about the dataset\n",
    "get_dataset_statistics_describe(movie_data)"
   ]
  },
  {
   "cell_type": "code",
   "execution_count": 93,
   "metadata": {},
   "outputs": [
    {
     "data": {
      "text/plain": [
       "Index(['Name', 'Year', 'Duration', 'Genre', 'Rating', 'Votes', 'Director',\n",
       "       'Actor 1', 'Actor 2', 'Actor 3'],\n",
       "      dtype='object')"
      ]
     },
     "execution_count": 93,
     "metadata": {},
     "output_type": "execute_result"
    }
   ],
   "source": [
    "# Examine the columns in the dataset\n",
    "movie_data.columns"
   ]
  },
  {
   "cell_type": "markdown",
   "metadata": {},
   "source": [
    "## 2) Data Cleaning"
   ]
  },
  {
   "cell_type": "code",
   "execution_count": 94,
   "metadata": {},
   "outputs": [
    {
     "name": "stdout",
     "output_type": "stream",
     "text": [
      "6\n"
     ]
    }
   ],
   "source": [
    "# Check for duplicates\n",
    "def dataset_duplicated(dataset):\n",
    "  \n",
    "    dataset_duplicated = dataset.duplicated().sum()\n",
    "    print(dataset_duplicated)\n",
    "\n",
    "\n",
    "dataset_duplicated(movie_data)"
   ]
  },
  {
   "cell_type": "code",
   "execution_count": 95,
   "metadata": {},
   "outputs": [],
   "source": [
    "# Drop the duplicates\n",
    "def drop_duplicates(dataset):\n",
    "    dataset.drop_duplicates(inplace = True)\n",
    "    \n",
    "drop_duplicates(movie_data) "
   ]
  },
  {
   "cell_type": "code",
   "execution_count": 96,
   "metadata": {},
   "outputs": [
    {
     "data": {
      "text/plain": [
       "0"
      ]
     },
     "execution_count": 96,
     "metadata": {},
     "output_type": "execute_result"
    }
   ],
   "source": [
    "# Confirm/check for duplictes\n",
    "movie_data.duplicated().sum()"
   ]
  },
  {
   "cell_type": "markdown",
   "metadata": {},
   "source": [
    "* There are no duplicates after dropping them "
   ]
  },
  {
   "cell_type": "code",
   "execution_count": 97,
   "metadata": {},
   "outputs": [
    {
     "name": "stdout",
     "output_type": "stream",
     "text": [
      "Column               Missing Values  Percentage     \n",
      "Year                 527             3.40           \n",
      "Duration             8264            53.31          \n",
      "Genre                1876            12.10          \n",
      "Rating               7584            48.92          \n",
      "Votes                7583            48.91          \n",
      "Director             524             3.38           \n",
      "Actor 1              1615            10.42          \n",
      "Actor 2              2381            15.36          \n",
      "Actor 3              3140            20.25          \n"
     ]
    }
   ],
   "source": [
    "# Check the percentage of the missing values\n",
    "def print_missing_values(movie_data):\n",
    "\n",
    "    # Get columns with missing values\n",
    "    columns_with_missing = movie_data.columns[movie_data.isnull().any()].tolist()\n",
    "\n",
    "    # Calculate sum and percentage of missing values for each column\n",
    "    missing_values_sum = movie_data[columns_with_missing].isnull().sum()\n",
    "    missing_values_percentage = (missing_values_sum / len(movie_data)) * 100\n",
    "\n",
    "    # Create a table with the missing values information\n",
    "    missing_values_table = pd.DataFrame({\n",
    "        'Column': columns_with_missing,\n",
    "        'Missing Values': missing_values_sum,\n",
    "        'Percentage': missing_values_percentage\n",
    "    })\n",
    "\n",
    "    # Print the table with column names and their respective missing values\n",
    "    print(f\"{'Column':<20} {'Missing Values':<15} {'Percentage':<15}\")\n",
    "    for _, row in missing_values_table.iterrows():\n",
    "        print(f\"{row['Column']:<20} {row['Missing Values']:<15} {row['Percentage']:<15.2f}\")\n",
    "\n",
    "print_missing_values(movie_data)"
   ]
  },
  {
   "cell_type": "markdown",
   "metadata": {},
   "source": [
    "* The dataset shows there are some missing values(%) in the dataset "
   ]
  },
  {
   "cell_type": "code",
   "execution_count": 98,
   "metadata": {},
   "outputs": [
    {
     "name": "stdout",
     "output_type": "stream",
     "text": [
      "[nan '(2019)' '(2021)' '(2010)' '(1997)' '(2005)' '(2008)' '(2012)'\n",
      " '(2014)' '(2004)' '(2016)' '(1991)' '(1990)' '(2018)' '(1987)' '(1948)'\n",
      " '(1958)' '(2017)' '(2020)' '(2009)' '(2002)' '(1993)' '(1946)' '(1994)'\n",
      " '(2007)' '(2013)' '(2003)' '(1998)' '(1979)' '(1951)' '(1956)' '(1974)'\n",
      " '(2015)' '(2006)' '(1981)' '(1985)' '(2011)' '(2001)' '(1967)' '(1988)'\n",
      " '(1995)' '(1959)' '(1996)' '(1970)' '(1976)' '(2000)' '(1999)' '(1973)'\n",
      " '(1968)' '(1943)' '(1953)' '(1986)' '(1983)' '(1989)' '(1982)' '(1977)'\n",
      " '(1957)' '(1950)' '(1992)' '(1969)' '(1975)' '(1947)' '(1972)' '(1971)'\n",
      " '(1935)' '(1978)' '(1960)' '(1944)' '(1963)' '(1940)' '(1984)' '(1934)'\n",
      " '(1955)' '(1936)' '(1980)' '(1966)' '(1949)' '(1962)' '(1964)' '(1952)'\n",
      " '(1933)' '(1942)' '(1939)' '(1954)' '(1945)' '(1961)' '(1965)' '(1938)'\n",
      " '(1941)' '(1931)' '(1937)' '(2022)' '(1932)' '(1923)' '(1915)' '(1928)'\n",
      " '(1922)' '(1917)' '(1913)' '(1930)' '(1926)' '(1914)' '(1924)']\n"
     ]
    }
   ],
   "source": [
    "unique_years = movie_data['Year'].unique()\n",
    "print(unique_years)\n"
   ]
  },
  {
   "cell_type": "code",
   "execution_count": 99,
   "metadata": {},
   "outputs": [],
   "source": [
    "movie_data = movie_data.dropna(subset=['Year'])"
   ]
  },
  {
   "cell_type": "code",
   "execution_count": 100,
   "metadata": {},
   "outputs": [
    {
     "name": "stderr",
     "output_type": "stream",
     "text": [
      "<ipython-input-100-90f406a4545c>:2: SettingWithCopyWarning: \n",
      "A value is trying to be set on a copy of a slice from a DataFrame.\n",
      "Try using .loc[row_indexer,col_indexer] = value instead\n",
      "\n",
      "See the caveats in the documentation: https://pandas.pydata.org/pandas-docs/stable/user_guide/indexing.html#returning-a-view-versus-a-copy\n",
      "  movie_data['Votes_numeric'] = pd.to_numeric(movie_data['Votes'], errors='coerce')\n",
      "<ipython-input-100-90f406a4545c>:5: SettingWithCopyWarning: \n",
      "A value is trying to be set on a copy of a slice from a DataFrame.\n",
      "Try using .loc[row_indexer,col_indexer] = value instead\n",
      "\n",
      "See the caveats in the documentation: https://pandas.pydata.org/pandas-docs/stable/user_guide/indexing.html#returning-a-view-versus-a-copy\n",
      "  movie_data['Duration_numeric'] = movie_data['Duration'].str.extract(duration_pattern,expand= False)\n",
      "<ipython-input-100-90f406a4545c>:6: SettingWithCopyWarning: \n",
      "A value is trying to be set on a copy of a slice from a DataFrame.\n",
      "Try using .loc[row_indexer,col_indexer] = value instead\n",
      "\n",
      "See the caveats in the documentation: https://pandas.pydata.org/pandas-docs/stable/user_guide/indexing.html#returning-a-view-versus-a-copy\n",
      "  movie_data['Duration_numeric'] = pd.to_numeric(movie_data['Duration_numeric'], errors='coerce')\n"
     ]
    }
   ],
   "source": [
    "# Convert the 'Year' column to numeric with 'coerce' error handling\n",
    "movie_data['Votes_numeric'] = pd.to_numeric(movie_data['Votes'], errors='coerce')\n",
    "#Duration column\n",
    "duration_pattern = r'(\\d+) min'\n",
    "movie_data['Duration_numeric'] = movie_data['Duration'].str.extract(duration_pattern,expand= False)\n",
    "movie_data['Duration_numeric'] = pd.to_numeric(movie_data['Duration_numeric'], errors='coerce')"
   ]
  },
  {
   "cell_type": "code",
   "execution_count": 101,
   "metadata": {},
   "outputs": [
    {
     "name": "stderr",
     "output_type": "stream",
     "text": [
      "c:\\Users\\wanji\\anaconda3\\envs\\learn-env\\lib\\site-packages\\pandas\\core\\series.py:4517: SettingWithCopyWarning: \n",
      "A value is trying to be set on a copy of a slice from a DataFrame\n",
      "\n",
      "See the caveats in the documentation: https://pandas.pydata.org/pandas-docs/stable/user_guide/indexing.html#returning-a-view-versus-a-copy\n",
      "  return super().fillna(\n"
     ]
    }
   ],
   "source": [
    "# Votes\n",
    "mean_votes = movie_data['Votes_numeric'].mean()\n",
    "movie_data['Votes_numeric'].fillna(mean_votes,inplace = True)\n",
    "\n",
    "# Duration\n",
    "mean_duration = movie_data['Duration_numeric'].mean()\n",
    "movie_data['Duration_numeric'].fillna(mean_duration,inplace = True)"
   ]
  },
  {
   "cell_type": "code",
   "execution_count": 102,
   "metadata": {},
   "outputs": [
    {
     "data": {
      "text/html": [
       "<div>\n",
       "<style scoped>\n",
       "    .dataframe tbody tr th:only-of-type {\n",
       "        vertical-align: middle;\n",
       "    }\n",
       "\n",
       "    .dataframe tbody tr th {\n",
       "        vertical-align: top;\n",
       "    }\n",
       "\n",
       "    .dataframe thead th {\n",
       "        text-align: right;\n",
       "    }\n",
       "</style>\n",
       "<table border=\"1\" class=\"dataframe\">\n",
       "  <thead>\n",
       "    <tr style=\"text-align: right;\">\n",
       "      <th></th>\n",
       "      <th>Name</th>\n",
       "      <th>Year</th>\n",
       "      <th>Duration</th>\n",
       "      <th>Genre</th>\n",
       "      <th>Rating</th>\n",
       "      <th>Votes</th>\n",
       "      <th>Director</th>\n",
       "      <th>Actor 1</th>\n",
       "      <th>Actor 2</th>\n",
       "      <th>Actor 3</th>\n",
       "      <th>Votes_numeric</th>\n",
       "      <th>Duration_numeric</th>\n",
       "    </tr>\n",
       "  </thead>\n",
       "  <tbody>\n",
       "    <tr>\n",
       "      <th>1</th>\n",
       "      <td>#Gadhvi (He thought he was Gandhi)</td>\n",
       "      <td>(2019)</td>\n",
       "      <td>109 min</td>\n",
       "      <td>Drama</td>\n",
       "      <td>7.0</td>\n",
       "      <td>8</td>\n",
       "      <td>Gaurav Bakshi</td>\n",
       "      <td>Rasika Dugal</td>\n",
       "      <td>Vivek Ghamande</td>\n",
       "      <td>Arvind Jangid</td>\n",
       "      <td>8.000000</td>\n",
       "      <td>109.000000</td>\n",
       "    </tr>\n",
       "    <tr>\n",
       "      <th>2</th>\n",
       "      <td>#Homecoming</td>\n",
       "      <td>(2021)</td>\n",
       "      <td>90 min</td>\n",
       "      <td>Drama, Musical</td>\n",
       "      <td>NaN</td>\n",
       "      <td>NaN</td>\n",
       "      <td>Soumyajit Majumdar</td>\n",
       "      <td>Sayani Gupta</td>\n",
       "      <td>Plabita Borthakur</td>\n",
       "      <td>Roy Angana</td>\n",
       "      <td>120.839493</td>\n",
       "      <td>90.000000</td>\n",
       "    </tr>\n",
       "    <tr>\n",
       "      <th>3</th>\n",
       "      <td>#Yaaram</td>\n",
       "      <td>(2019)</td>\n",
       "      <td>110 min</td>\n",
       "      <td>Comedy, Romance</td>\n",
       "      <td>4.4</td>\n",
       "      <td>35</td>\n",
       "      <td>Ovais Khan</td>\n",
       "      <td>Prateik</td>\n",
       "      <td>Ishita Raj</td>\n",
       "      <td>Siddhant Kapoor</td>\n",
       "      <td>35.000000</td>\n",
       "      <td>110.000000</td>\n",
       "    </tr>\n",
       "    <tr>\n",
       "      <th>4</th>\n",
       "      <td>...And Once Again</td>\n",
       "      <td>(2010)</td>\n",
       "      <td>105 min</td>\n",
       "      <td>Drama</td>\n",
       "      <td>NaN</td>\n",
       "      <td>NaN</td>\n",
       "      <td>Amol Palekar</td>\n",
       "      <td>Rajat Kapoor</td>\n",
       "      <td>Rituparna Sengupta</td>\n",
       "      <td>Antara Mali</td>\n",
       "      <td>120.839493</td>\n",
       "      <td>105.000000</td>\n",
       "    </tr>\n",
       "    <tr>\n",
       "      <th>5</th>\n",
       "      <td>...Aur Pyaar Ho Gaya</td>\n",
       "      <td>(1997)</td>\n",
       "      <td>147 min</td>\n",
       "      <td>Comedy, Drama, Musical</td>\n",
       "      <td>4.7</td>\n",
       "      <td>827</td>\n",
       "      <td>Rahul Rawail</td>\n",
       "      <td>Bobby Deol</td>\n",
       "      <td>Aishwarya Rai Bachchan</td>\n",
       "      <td>Shammi Kapoor</td>\n",
       "      <td>827.000000</td>\n",
       "      <td>147.000000</td>\n",
       "    </tr>\n",
       "    <tr>\n",
       "      <th>...</th>\n",
       "      <td>...</td>\n",
       "      <td>...</td>\n",
       "      <td>...</td>\n",
       "      <td>...</td>\n",
       "      <td>...</td>\n",
       "      <td>...</td>\n",
       "      <td>...</td>\n",
       "      <td>...</td>\n",
       "      <td>...</td>\n",
       "      <td>...</td>\n",
       "      <td>...</td>\n",
       "      <td>...</td>\n",
       "    </tr>\n",
       "    <tr>\n",
       "      <th>15504</th>\n",
       "      <td>Zulm Ko Jala Doonga</td>\n",
       "      <td>(1988)</td>\n",
       "      <td>NaN</td>\n",
       "      <td>Action</td>\n",
       "      <td>4.6</td>\n",
       "      <td>11</td>\n",
       "      <td>Mahendra Shah</td>\n",
       "      <td>Naseeruddin Shah</td>\n",
       "      <td>Sumeet Saigal</td>\n",
       "      <td>Suparna Anand</td>\n",
       "      <td>11.000000</td>\n",
       "      <td>128.469075</td>\n",
       "    </tr>\n",
       "    <tr>\n",
       "      <th>15505</th>\n",
       "      <td>Zulmi</td>\n",
       "      <td>(1999)</td>\n",
       "      <td>129 min</td>\n",
       "      <td>Action, Drama</td>\n",
       "      <td>4.5</td>\n",
       "      <td>655</td>\n",
       "      <td>Kuku Kohli</td>\n",
       "      <td>Akshay Kumar</td>\n",
       "      <td>Twinkle Khanna</td>\n",
       "      <td>Aruna Irani</td>\n",
       "      <td>655.000000</td>\n",
       "      <td>129.000000</td>\n",
       "    </tr>\n",
       "    <tr>\n",
       "      <th>15506</th>\n",
       "      <td>Zulmi Raj</td>\n",
       "      <td>(2005)</td>\n",
       "      <td>NaN</td>\n",
       "      <td>Action</td>\n",
       "      <td>NaN</td>\n",
       "      <td>NaN</td>\n",
       "      <td>Kiran Thej</td>\n",
       "      <td>Sangeeta Tiwari</td>\n",
       "      <td>NaN</td>\n",
       "      <td>NaN</td>\n",
       "      <td>120.839493</td>\n",
       "      <td>128.469075</td>\n",
       "    </tr>\n",
       "    <tr>\n",
       "      <th>15507</th>\n",
       "      <td>Zulmi Shikari</td>\n",
       "      <td>(1988)</td>\n",
       "      <td>NaN</td>\n",
       "      <td>Action</td>\n",
       "      <td>NaN</td>\n",
       "      <td>NaN</td>\n",
       "      <td>NaN</td>\n",
       "      <td>NaN</td>\n",
       "      <td>NaN</td>\n",
       "      <td>NaN</td>\n",
       "      <td>120.839493</td>\n",
       "      <td>128.469075</td>\n",
       "    </tr>\n",
       "    <tr>\n",
       "      <th>15508</th>\n",
       "      <td>Zulm-O-Sitam</td>\n",
       "      <td>(1998)</td>\n",
       "      <td>130 min</td>\n",
       "      <td>Action, Drama</td>\n",
       "      <td>6.2</td>\n",
       "      <td>20</td>\n",
       "      <td>K.C. Bokadia</td>\n",
       "      <td>Dharmendra</td>\n",
       "      <td>Jaya Prada</td>\n",
       "      <td>Arjun Sarja</td>\n",
       "      <td>20.000000</td>\n",
       "      <td>130.000000</td>\n",
       "    </tr>\n",
       "  </tbody>\n",
       "</table>\n",
       "<p>14976 rows × 12 columns</p>\n",
       "</div>"
      ],
      "text/plain": [
       "                                     Name    Year Duration  \\\n",
       "1      #Gadhvi (He thought he was Gandhi)  (2019)  109 min   \n",
       "2                             #Homecoming  (2021)   90 min   \n",
       "3                                 #Yaaram  (2019)  110 min   \n",
       "4                       ...And Once Again  (2010)  105 min   \n",
       "5                    ...Aur Pyaar Ho Gaya  (1997)  147 min   \n",
       "...                                   ...     ...      ...   \n",
       "15504                 Zulm Ko Jala Doonga  (1988)      NaN   \n",
       "15505                               Zulmi  (1999)  129 min   \n",
       "15506                           Zulmi Raj  (2005)      NaN   \n",
       "15507                       Zulmi Shikari  (1988)      NaN   \n",
       "15508                        Zulm-O-Sitam  (1998)  130 min   \n",
       "\n",
       "                        Genre  Rating Votes            Director  \\\n",
       "1                       Drama     7.0     8       Gaurav Bakshi   \n",
       "2              Drama, Musical     NaN   NaN  Soumyajit Majumdar   \n",
       "3             Comedy, Romance     4.4    35          Ovais Khan   \n",
       "4                       Drama     NaN   NaN        Amol Palekar   \n",
       "5      Comedy, Drama, Musical     4.7   827        Rahul Rawail   \n",
       "...                       ...     ...   ...                 ...   \n",
       "15504                  Action     4.6    11       Mahendra Shah   \n",
       "15505           Action, Drama     4.5   655          Kuku Kohli   \n",
       "15506                  Action     NaN   NaN          Kiran Thej   \n",
       "15507                  Action     NaN   NaN                 NaN   \n",
       "15508           Action, Drama     6.2    20        K.C. Bokadia   \n",
       "\n",
       "                Actor 1                 Actor 2          Actor 3  \\\n",
       "1          Rasika Dugal          Vivek Ghamande    Arvind Jangid   \n",
       "2          Sayani Gupta       Plabita Borthakur       Roy Angana   \n",
       "3               Prateik              Ishita Raj  Siddhant Kapoor   \n",
       "4          Rajat Kapoor      Rituparna Sengupta      Antara Mali   \n",
       "5            Bobby Deol  Aishwarya Rai Bachchan    Shammi Kapoor   \n",
       "...                 ...                     ...              ...   \n",
       "15504  Naseeruddin Shah           Sumeet Saigal    Suparna Anand   \n",
       "15505      Akshay Kumar          Twinkle Khanna      Aruna Irani   \n",
       "15506   Sangeeta Tiwari                     NaN              NaN   \n",
       "15507               NaN                     NaN              NaN   \n",
       "15508        Dharmendra              Jaya Prada      Arjun Sarja   \n",
       "\n",
       "       Votes_numeric  Duration_numeric  \n",
       "1           8.000000        109.000000  \n",
       "2         120.839493         90.000000  \n",
       "3          35.000000        110.000000  \n",
       "4         120.839493        105.000000  \n",
       "5         827.000000        147.000000  \n",
       "...              ...               ...  \n",
       "15504      11.000000        128.469075  \n",
       "15505     655.000000        129.000000  \n",
       "15506     120.839493        128.469075  \n",
       "15507     120.839493        128.469075  \n",
       "15508      20.000000        130.000000  \n",
       "\n",
       "[14976 rows x 12 columns]"
      ]
     },
     "execution_count": 102,
     "metadata": {},
     "output_type": "execute_result"
    }
   ],
   "source": [
    "movie_data"
   ]
  },
  {
   "cell_type": "code",
   "execution_count": 103,
   "metadata": {},
   "outputs": [
    {
     "name": "stderr",
     "output_type": "stream",
     "text": [
      "c:\\Users\\wanji\\anaconda3\\envs\\learn-env\\lib\\site-packages\\pandas\\core\\series.py:4517: SettingWithCopyWarning: \n",
      "A value is trying to be set on a copy of a slice from a DataFrame\n",
      "\n",
      "See the caveats in the documentation: https://pandas.pydata.org/pandas-docs/stable/user_guide/indexing.html#returning-a-view-versus-a-copy\n",
      "  return super().fillna(\n"
     ]
    }
   ],
   "source": [
    "movie_data['Rating'].fillna(movie_data['Rating'].mean(),inplace = True)\n",
    "movie_data['Genre'].fillna(movie_data['Genre'].mode(),inplace = True)\n",
    "movie_data['Director'].fillna(movie_data['Director'].mode(),inplace = True)\n",
    "movie_data['Actor 1'].fillna(movie_data['Actor 1'].mode(),inplace = True)\n",
    "movie_data['Actor 2'].fillna(movie_data['Actor 2'].mode(),inplace = True)\n",
    "movie_data['Actor 3'].fillna(movie_data['Actor 3'].mode(),inplace = True)"
   ]
  },
  {
   "cell_type": "code",
   "execution_count": 104,
   "metadata": {},
   "outputs": [
    {
     "name": "stderr",
     "output_type": "stream",
     "text": [
      "<ipython-input-104-cf8810f2f9e9>:1: SettingWithCopyWarning: \n",
      "A value is trying to be set on a copy of a slice from a DataFrame.\n",
      "Try using .loc[row_indexer,col_indexer] = value instead\n",
      "\n",
      "See the caveats in the documentation: https://pandas.pydata.org/pandas-docs/stable/user_guide/indexing.html#returning-a-view-versus-a-copy\n",
      "  movie_data['Year'] = movie_data['Year'].str.extract('(\\d+)').astype(int)\n"
     ]
    }
   ],
   "source": [
    "movie_data['Year'] = movie_data['Year'].str.extract('(\\d+)').astype(int)"
   ]
  },
  {
   "cell_type": "code",
   "execution_count": 105,
   "metadata": {},
   "outputs": [
    {
     "name": "stderr",
     "output_type": "stream",
     "text": [
      "<ipython-input-105-399aca1aa40f>:3: SettingWithCopyWarning: \n",
      "A value is trying to be set on a copy of a slice from a DataFrame.\n",
      "Try using .loc[row_indexer,col_indexer] = value instead\n",
      "\n",
      "See the caveats in the documentation: https://pandas.pydata.org/pandas-docs/stable/user_guide/indexing.html#returning-a-view-versus-a-copy\n",
      "  movie_data['Years_Since_Release'] = current_year - movie_data['Year']\n"
     ]
    }
   ],
   "source": [
    "# Extract features (e.g., 'Years Since Release' from 'Year' column)\n",
    "current_year = 2021\n",
    "movie_data['Years_Since_Release'] = current_year - movie_data['Year']\n"
   ]
  },
  {
   "cell_type": "markdown",
   "metadata": {},
   "source": [
    "---"
   ]
  },
  {
   "cell_type": "code",
   "execution_count": 106,
   "metadata": {},
   "outputs": [
    {
     "data": {
      "text/html": [
       "<div>\n",
       "<style scoped>\n",
       "    .dataframe tbody tr th:only-of-type {\n",
       "        vertical-align: middle;\n",
       "    }\n",
       "\n",
       "    .dataframe tbody tr th {\n",
       "        vertical-align: top;\n",
       "    }\n",
       "\n",
       "    .dataframe thead th {\n",
       "        text-align: right;\n",
       "    }\n",
       "</style>\n",
       "<table border=\"1\" class=\"dataframe\">\n",
       "  <thead>\n",
       "    <tr style=\"text-align: right;\">\n",
       "      <th></th>\n",
       "      <th>Name</th>\n",
       "      <th>Year</th>\n",
       "      <th>Duration</th>\n",
       "      <th>Genre</th>\n",
       "      <th>Rating</th>\n",
       "      <th>Votes</th>\n",
       "      <th>Director</th>\n",
       "      <th>Actor 1</th>\n",
       "      <th>Actor 2</th>\n",
       "      <th>Actor 3</th>\n",
       "      <th>Votes_numeric</th>\n",
       "      <th>Duration_numeric</th>\n",
       "      <th>Years_Since_Release</th>\n",
       "    </tr>\n",
       "  </thead>\n",
       "  <tbody>\n",
       "    <tr>\n",
       "      <th>1</th>\n",
       "      <td>#Gadhvi (He thought he was Gandhi)</td>\n",
       "      <td>2019</td>\n",
       "      <td>109 min</td>\n",
       "      <td>Drama</td>\n",
       "      <td>7.000000</td>\n",
       "      <td>8</td>\n",
       "      <td>Gaurav Bakshi</td>\n",
       "      <td>Rasika Dugal</td>\n",
       "      <td>Vivek Ghamande</td>\n",
       "      <td>Arvind Jangid</td>\n",
       "      <td>8.000000</td>\n",
       "      <td>109.000000</td>\n",
       "      <td>2</td>\n",
       "    </tr>\n",
       "    <tr>\n",
       "      <th>2</th>\n",
       "      <td>#Homecoming</td>\n",
       "      <td>2021</td>\n",
       "      <td>90 min</td>\n",
       "      <td>Drama, Musical</td>\n",
       "      <td>5.841621</td>\n",
       "      <td>NaN</td>\n",
       "      <td>Soumyajit Majumdar</td>\n",
       "      <td>Sayani Gupta</td>\n",
       "      <td>Plabita Borthakur</td>\n",
       "      <td>Roy Angana</td>\n",
       "      <td>120.839493</td>\n",
       "      <td>90.000000</td>\n",
       "      <td>0</td>\n",
       "    </tr>\n",
       "    <tr>\n",
       "      <th>3</th>\n",
       "      <td>#Yaaram</td>\n",
       "      <td>2019</td>\n",
       "      <td>110 min</td>\n",
       "      <td>Comedy, Romance</td>\n",
       "      <td>4.400000</td>\n",
       "      <td>35</td>\n",
       "      <td>Ovais Khan</td>\n",
       "      <td>Prateik</td>\n",
       "      <td>Ishita Raj</td>\n",
       "      <td>Siddhant Kapoor</td>\n",
       "      <td>35.000000</td>\n",
       "      <td>110.000000</td>\n",
       "      <td>2</td>\n",
       "    </tr>\n",
       "    <tr>\n",
       "      <th>4</th>\n",
       "      <td>...And Once Again</td>\n",
       "      <td>2010</td>\n",
       "      <td>105 min</td>\n",
       "      <td>Drama</td>\n",
       "      <td>5.841621</td>\n",
       "      <td>NaN</td>\n",
       "      <td>Amol Palekar</td>\n",
       "      <td>Rajat Kapoor</td>\n",
       "      <td>Rituparna Sengupta</td>\n",
       "      <td>Antara Mali</td>\n",
       "      <td>120.839493</td>\n",
       "      <td>105.000000</td>\n",
       "      <td>11</td>\n",
       "    </tr>\n",
       "    <tr>\n",
       "      <th>5</th>\n",
       "      <td>...Aur Pyaar Ho Gaya</td>\n",
       "      <td>1997</td>\n",
       "      <td>147 min</td>\n",
       "      <td>Comedy, Drama, Musical</td>\n",
       "      <td>4.700000</td>\n",
       "      <td>827</td>\n",
       "      <td>Rahul Rawail</td>\n",
       "      <td>Bobby Deol</td>\n",
       "      <td>Aishwarya Rai Bachchan</td>\n",
       "      <td>Shammi Kapoor</td>\n",
       "      <td>827.000000</td>\n",
       "      <td>147.000000</td>\n",
       "      <td>24</td>\n",
       "    </tr>\n",
       "    <tr>\n",
       "      <th>...</th>\n",
       "      <td>...</td>\n",
       "      <td>...</td>\n",
       "      <td>...</td>\n",
       "      <td>...</td>\n",
       "      <td>...</td>\n",
       "      <td>...</td>\n",
       "      <td>...</td>\n",
       "      <td>...</td>\n",
       "      <td>...</td>\n",
       "      <td>...</td>\n",
       "      <td>...</td>\n",
       "      <td>...</td>\n",
       "      <td>...</td>\n",
       "    </tr>\n",
       "    <tr>\n",
       "      <th>15504</th>\n",
       "      <td>Zulm Ko Jala Doonga</td>\n",
       "      <td>1988</td>\n",
       "      <td>NaN</td>\n",
       "      <td>Action</td>\n",
       "      <td>4.600000</td>\n",
       "      <td>11</td>\n",
       "      <td>Mahendra Shah</td>\n",
       "      <td>Naseeruddin Shah</td>\n",
       "      <td>Sumeet Saigal</td>\n",
       "      <td>Suparna Anand</td>\n",
       "      <td>11.000000</td>\n",
       "      <td>128.469075</td>\n",
       "      <td>33</td>\n",
       "    </tr>\n",
       "    <tr>\n",
       "      <th>15505</th>\n",
       "      <td>Zulmi</td>\n",
       "      <td>1999</td>\n",
       "      <td>129 min</td>\n",
       "      <td>Action, Drama</td>\n",
       "      <td>4.500000</td>\n",
       "      <td>655</td>\n",
       "      <td>Kuku Kohli</td>\n",
       "      <td>Akshay Kumar</td>\n",
       "      <td>Twinkle Khanna</td>\n",
       "      <td>Aruna Irani</td>\n",
       "      <td>655.000000</td>\n",
       "      <td>129.000000</td>\n",
       "      <td>22</td>\n",
       "    </tr>\n",
       "    <tr>\n",
       "      <th>15506</th>\n",
       "      <td>Zulmi Raj</td>\n",
       "      <td>2005</td>\n",
       "      <td>NaN</td>\n",
       "      <td>Action</td>\n",
       "      <td>5.841621</td>\n",
       "      <td>NaN</td>\n",
       "      <td>Kiran Thej</td>\n",
       "      <td>Sangeeta Tiwari</td>\n",
       "      <td>NaN</td>\n",
       "      <td>NaN</td>\n",
       "      <td>120.839493</td>\n",
       "      <td>128.469075</td>\n",
       "      <td>16</td>\n",
       "    </tr>\n",
       "    <tr>\n",
       "      <th>15507</th>\n",
       "      <td>Zulmi Shikari</td>\n",
       "      <td>1988</td>\n",
       "      <td>NaN</td>\n",
       "      <td>Action</td>\n",
       "      <td>5.841621</td>\n",
       "      <td>NaN</td>\n",
       "      <td>NaN</td>\n",
       "      <td>NaN</td>\n",
       "      <td>NaN</td>\n",
       "      <td>NaN</td>\n",
       "      <td>120.839493</td>\n",
       "      <td>128.469075</td>\n",
       "      <td>33</td>\n",
       "    </tr>\n",
       "    <tr>\n",
       "      <th>15508</th>\n",
       "      <td>Zulm-O-Sitam</td>\n",
       "      <td>1998</td>\n",
       "      <td>130 min</td>\n",
       "      <td>Action, Drama</td>\n",
       "      <td>6.200000</td>\n",
       "      <td>20</td>\n",
       "      <td>K.C. Bokadia</td>\n",
       "      <td>Dharmendra</td>\n",
       "      <td>Jaya Prada</td>\n",
       "      <td>Arjun Sarja</td>\n",
       "      <td>20.000000</td>\n",
       "      <td>130.000000</td>\n",
       "      <td>23</td>\n",
       "    </tr>\n",
       "  </tbody>\n",
       "</table>\n",
       "<p>14976 rows × 13 columns</p>\n",
       "</div>"
      ],
      "text/plain": [
       "                                     Name  Year Duration  \\\n",
       "1      #Gadhvi (He thought he was Gandhi)  2019  109 min   \n",
       "2                             #Homecoming  2021   90 min   \n",
       "3                                 #Yaaram  2019  110 min   \n",
       "4                       ...And Once Again  2010  105 min   \n",
       "5                    ...Aur Pyaar Ho Gaya  1997  147 min   \n",
       "...                                   ...   ...      ...   \n",
       "15504                 Zulm Ko Jala Doonga  1988      NaN   \n",
       "15505                               Zulmi  1999  129 min   \n",
       "15506                           Zulmi Raj  2005      NaN   \n",
       "15507                       Zulmi Shikari  1988      NaN   \n",
       "15508                        Zulm-O-Sitam  1998  130 min   \n",
       "\n",
       "                        Genre    Rating Votes            Director  \\\n",
       "1                       Drama  7.000000     8       Gaurav Bakshi   \n",
       "2              Drama, Musical  5.841621   NaN  Soumyajit Majumdar   \n",
       "3             Comedy, Romance  4.400000    35          Ovais Khan   \n",
       "4                       Drama  5.841621   NaN        Amol Palekar   \n",
       "5      Comedy, Drama, Musical  4.700000   827        Rahul Rawail   \n",
       "...                       ...       ...   ...                 ...   \n",
       "15504                  Action  4.600000    11       Mahendra Shah   \n",
       "15505           Action, Drama  4.500000   655          Kuku Kohli   \n",
       "15506                  Action  5.841621   NaN          Kiran Thej   \n",
       "15507                  Action  5.841621   NaN                 NaN   \n",
       "15508           Action, Drama  6.200000    20        K.C. Bokadia   \n",
       "\n",
       "                Actor 1                 Actor 2          Actor 3  \\\n",
       "1          Rasika Dugal          Vivek Ghamande    Arvind Jangid   \n",
       "2          Sayani Gupta       Plabita Borthakur       Roy Angana   \n",
       "3               Prateik              Ishita Raj  Siddhant Kapoor   \n",
       "4          Rajat Kapoor      Rituparna Sengupta      Antara Mali   \n",
       "5            Bobby Deol  Aishwarya Rai Bachchan    Shammi Kapoor   \n",
       "...                 ...                     ...              ...   \n",
       "15504  Naseeruddin Shah           Sumeet Saigal    Suparna Anand   \n",
       "15505      Akshay Kumar          Twinkle Khanna      Aruna Irani   \n",
       "15506   Sangeeta Tiwari                     NaN              NaN   \n",
       "15507               NaN                     NaN              NaN   \n",
       "15508        Dharmendra              Jaya Prada      Arjun Sarja   \n",
       "\n",
       "       Votes_numeric  Duration_numeric  Years_Since_Release  \n",
       "1           8.000000        109.000000                    2  \n",
       "2         120.839493         90.000000                    0  \n",
       "3          35.000000        110.000000                    2  \n",
       "4         120.839493        105.000000                   11  \n",
       "5         827.000000        147.000000                   24  \n",
       "...              ...               ...                  ...  \n",
       "15504      11.000000        128.469075                   33  \n",
       "15505     655.000000        129.000000                   22  \n",
       "15506     120.839493        128.469075                   16  \n",
       "15507     120.839493        128.469075                   33  \n",
       "15508      20.000000        130.000000                   23  \n",
       "\n",
       "[14976 rows x 13 columns]"
      ]
     },
     "execution_count": 106,
     "metadata": {},
     "output_type": "execute_result"
    }
   ],
   "source": [
    "movie_data"
   ]
  },
  {
   "cell_type": "markdown",
   "metadata": {},
   "source": [
    "---"
   ]
  },
  {
   "cell_type": "markdown",
   "metadata": {},
   "source": [
    "# 3) EDA"
   ]
  },
  {
   "cell_type": "markdown",
   "metadata": {},
   "source": [
    "### Univariate Analysis\n",
    "* Vote Count"
   ]
  },
  {
   "cell_type": "code",
   "execution_count": 107,
   "metadata": {},
   "outputs": [
    {
     "name": "stdout",
     "output_type": "stream",
     "text": [
      "count    14976.000000\n",
      "mean       120.839493\n",
      "std        128.414023\n",
      "min          5.000000\n",
      "25%         47.000000\n",
      "50%        120.839493\n",
      "75%        120.839493\n",
      "max        999.000000\n",
      "Name: Votes_numeric, dtype: float64\n"
     ]
    },
    {
     "data": {
      "image/png": "[encoded data removed]",
      "text/plain": [
       "<Figure size 576x576 with 1 Axes>"
      ]
     },
     "metadata": {
      "needs_background": "light"
     },
     "output_type": "display_data"
    }
   ],
   "source": [
    "# Vote Count description\n",
    "vote_count_univariate = movie_data['Votes_numeric'].describe()\n",
    "print(vote_count_univariate)\n",
    "\n",
    "# Plot vote count distribution\n",
    "plt.figure(figsize=(8, 8))\n",
    "sns.histplot(movie_data['Votes_numeric'], kde = False , bins = 20)\n",
    "plt.xlabel(\"Vote Count\", fontsize=12)\n",
    "plt.ylabel(\"Frequency\", fontsize=12)\n",
    "plt.xlim(0, 5000)\n",
    "plt.title(\"Vote Count Distribution\", fontsize=15)\n",
    "plt.show()"
   ]
  },
  {
   "cell_type": "markdown",
   "metadata": {},
   "source": [
    "### Vote Average "
   ]
  },
  {
   "cell_type": "code",
   "execution_count": 108,
   "metadata": {},
   "outputs": [
    {
     "name": "stdout",
     "output_type": "stream",
     "text": [
      "count    14976.000000\n",
      "mean       120.839493\n",
      "std        128.414023\n",
      "min          5.000000\n",
      "25%         47.000000\n",
      "50%        120.839493\n",
      "75%        120.839493\n",
      "max        999.000000\n",
      "Name: Votes_numeric, dtype: float64\n"
     ]
    },
    {
     "data": {
      "image/png": "[encoded data removed]",
      "text/plain": [
       "<Figure size 576x576 with 1 Axes>"
      ]
     },
     "metadata": {
      "needs_background": "light"
     },
     "output_type": "display_data"
    }
   ],
   "source": [
    "vote_average_univariate = movie_data['Votes_numeric'].describe()\n",
    "print(vote_average_univariate)\n",
    "\n",
    "# Plot the vote average distribution\n",
    "plt.figure(figsize=(8, 8))\n",
    "sns.histplot(movie_data['Votes_numeric'], kde = False , bins = 20)\n",
    "plt.xlabel(\"Vote Average\", fontsize=12)\n",
    "plt.ylabel(\"Frequency\", fontsize=12)\n",
    "plt.title(\"Vote Average Distribution\", fontsize=15)\n",
    "plt.show()"
   ]
  },
  {
   "cell_type": "markdown",
   "metadata": {},
   "source": [
    "---"
   ]
  },
  {
   "cell_type": "markdown",
   "metadata": {},
   "source": [
    "### Ratings"
   ]
  },
  {
   "cell_type": "code",
   "execution_count": 109,
   "metadata": {},
   "outputs": [
    {
     "data": {
      "image/png": "[encoded data removed]",
      "text/plain": [
       "<Figure size 1008x432 with 1 Axes>"
      ]
     },
     "metadata": {
      "needs_background": "light"
     },
     "output_type": "display_data"
    }
   ],
   "source": [
    "plt.figure(figsize=(14,6))\n",
    "plt.subplot(131)\n",
    "plt.hist(movie_data['Rating'], bins=30, color = 'skyblue',edgecolor='black')\n",
    "plt.xlabel('Rating')\n",
    "plt.ylabel('Count')\n",
    "plt.title('Distribution of Ratings')\n",
    "plt.tight_layout()\n",
    "plt.show()"
   ]
  },
  {
   "cell_type": "markdown",
   "metadata": {},
   "source": [
    "---"
   ]
  },
  {
   "cell_type": "markdown",
   "metadata": {},
   "source": [
    "###  Duration"
   ]
  },
  {
   "cell_type": "code",
   "execution_count": 110,
   "metadata": {},
   "outputs": [
    {
     "data": {
      "image/png": "[encoded data removed]",
      "text/plain": [
       "<Figure size 1008x432 with 1 Axes>"
      ]
     },
     "metadata": {
      "needs_background": "light"
     },
     "output_type": "display_data"
    }
   ],
   "source": [
    "plt.figure(figsize=(14,6))\n",
    "plt.subplot(131)\n",
    "plt.hist(movie_data['Duration_numeric'], bins=30, color = 'lightcoral',edgecolor='black')\n",
    "plt.xlabel('Duration (m)')\n",
    "plt.ylabel('Count')\n",
    "plt.title('Distribution of Duration')\n",
    "plt.tight_layout()\n",
    "plt.show()"
   ]
  },
  {
   "cell_type": "markdown",
   "metadata": {},
   "source": [
    "---"
   ]
  },
  {
   "cell_type": "markdown",
   "metadata": {},
   "source": [
    "### Year of Release "
   ]
  },
  {
   "cell_type": "code",
   "execution_count": 111,
   "metadata": {},
   "outputs": [
    {
     "data": {
      "image/png": "[encoded data removed]",
      "text/plain": [
       "<Figure size 1008x432 with 1 Axes>"
      ]
     },
     "metadata": {
      "needs_background": "light"
     },
     "output_type": "display_data"
    }
   ],
   "source": [
    "plt.figure(figsize=(14,6))\n",
    "plt.subplot(131)\n",
    "plt.hist(movie_data['Years_Since_Release'], bins=30, color = 'lightgreen',edgecolor='black')\n",
    "plt.xlabel('Year (of release)')\n",
    "plt.ylabel('Count')\n",
    "plt.title('Distribution of Years Since Release')\n",
    "plt.tight_layout()\n",
    "plt.show()"
   ]
  },
  {
   "cell_type": "markdown",
   "metadata": {},
   "source": [
    "---"
   ]
  },
  {
   "cell_type": "markdown",
   "metadata": {},
   "source": [
    "### Check for Outliers"
   ]
  },
  {
   "cell_type": "code",
   "execution_count": 112,
   "metadata": {},
   "outputs": [
    {
     "data": {
      "image/png": "[encoded data removed]",
      "text/plain": [
       "<Figure size 432x288 with 1 Axes>"
      ]
     },
     "metadata": {
      "needs_background": "light"
     },
     "output_type": "display_data"
    }
   ],
   "source": [
    "## Checking for outliers in the 'vote average' column\n",
    "plt.boxplot(movie_data['Votes_numeric'])\n",
    "plt.xlabel(\"Vote Average\", fontsize=12)\n",
    "plt.ylabel(\"Frequency\", fontsize=12)\n",
    "plt.title(\"Vote Average Distribution\", fontsize=15)\n",
    "plt.show()"
   ]
  },
  {
   "cell_type": "code",
   "execution_count": 113,
   "metadata": {},
   "outputs": [
    {
     "data": {
      "text/plain": [
       "(828, 13)"
      ]
     },
     "execution_count": 113,
     "metadata": {},
     "output_type": "execute_result"
    }
   ],
   "source": [
    "# Define the lower and upper bounds for the outliers\n",
    "lower_bound = 2\n",
    "upper_bound = 8\n",
    "\n",
    "# Remove outliers from the 'vote_average' column\n",
    "movies_credits_filtered = movie_data[(movie_data['Votes_numeric'] >= lower_bound) & (movie_data['Votes_numeric'] <= upper_bound)]\n",
    "\n",
    "# Display the shape filtered dataset without outliers\n",
    "movies_credits_filtered.shape"
   ]
  },
  {
   "cell_type": "markdown",
   "metadata": {},
   "source": [
    "---"
   ]
  },
  {
   "cell_type": "markdown",
   "metadata": {},
   "source": [
    "### Top Genres"
   ]
  },
  {
   "cell_type": "code",
   "execution_count": 114,
   "metadata": {},
   "outputs": [
    {
     "data": {
      "image/png": "[encoded data removed]",
      "text/plain": [
       "<Figure size 1080x432 with 1 Axes>"
      ]
     },
     "metadata": {
      "needs_background": "light"
     },
     "output_type": "display_data"
    }
   ],
   "source": [
    "# Extract the 'genres' column\n",
    "genres = movie_data['Genre']\n",
    "\n",
    "# Flatten the list of genres\n",
    "flat_genres = [genre for sublist in genres if pd.notna(sublist) for genre in sublist]\n",
    "\n",
    "# Count the frequency of each genre\n",
    "genre_counts = pd.Series(flat_genres).value_counts()\n",
    "\n",
    "# Select the top genres\n",
    "top_genres = genre_counts.head()\n",
    "\n",
    "# Plot the top genres\n",
    "plt.figure(figsize=(15, 6))\n",
    "top_genres.plot(kind='bar')\n",
    "plt.title('Top Genres')\n",
    "plt.xlabel('Genre')\n",
    "plt.ylabel('Frequency')\n",
    "plt.xticks(rotation=45)\n",
    "plt.show()\n"
   ]
  },
  {
   "cell_type": "markdown",
   "metadata": {},
   "source": [
    "---"
   ]
  },
  {
   "cell_type": "markdown",
   "metadata": {},
   "source": [
    "### Top Actors per Categories:Actor(1), Actor(2), Actor(3)"
   ]
  },
  {
   "cell_type": "code",
   "execution_count": 115,
   "metadata": {},
   "outputs": [
    {
     "data": {
      "image/png": "[encoded data removed]",
      "text/plain": [
       "<Figure size 720x432 with 1 Axes>"
      ]
     },
     "metadata": {
      "needs_background": "light"
     },
     "output_type": "display_data"
    }
   ],
   "source": [
    "# Plotting 'production_companies' (top 10)\n",
    "plt.figure(figsize=(10, 6))\n",
    "top_10_production_companies = movie_data['Actor 1'].explode().value_counts().head(10)\n",
    "top_10_production_companies.plot(kind='bar')\n",
    "plt.title('Top 10 Actors(1)')\n",
    "plt.xlabel('Actors(1)')\n",
    "plt.ylabel('Count')\n",
    "plt.show()\n"
   ]
  },
  {
   "cell_type": "code",
   "execution_count": 116,
   "metadata": {},
   "outputs": [
    {
     "data": {
      "image/png": "[encoded data removed]",
      "text/plain": [
       "<Figure size 720x432 with 1 Axes>"
      ]
     },
     "metadata": {
      "needs_background": "light"
     },
     "output_type": "display_data"
    }
   ],
   "source": [
    "# Plotting 'production_companies' (top 10)\n",
    "plt.figure(figsize=(10, 6))\n",
    "top_10_production_companies = movie_data['Actor 2'].explode().value_counts().head(10)\n",
    "top_10_production_companies.plot(kind='bar')\n",
    "plt.title('Top 10 Actors(2)')\n",
    "plt.xlabel('Actors(2)')\n",
    "plt.ylabel('Count')\n",
    "plt.show()\n"
   ]
  },
  {
   "cell_type": "code",
   "execution_count": 117,
   "metadata": {},
   "outputs": [
    {
     "data": {
      "image/png": "[encoded data removed]",
      "text/plain": [
       "<Figure size 720x432 with 1 Axes>"
      ]
     },
     "metadata": {
      "needs_background": "light"
     },
     "output_type": "display_data"
    }
   ],
   "source": [
    "# Plotting 'production_companies' (top 10)\n",
    "plt.figure(figsize=(10, 6))\n",
    "top_10_production_companies = movie_data['Actor 3'].explode().value_counts().head(10)\n",
    "top_10_production_companies.plot(kind='bar')\n",
    "plt.title('Top 10 Actors(3)')\n",
    "plt.xlabel('Actors(3)')\n",
    "plt.ylabel('Count')\n",
    "plt.show()\n"
   ]
  },
  {
   "cell_type": "markdown",
   "metadata": {},
   "source": [
    "---"
   ]
  },
  {
   "cell_type": "markdown",
   "metadata": {},
   "source": [
    "### Top performing years "
   ]
  },
  {
   "cell_type": "code",
   "execution_count": 118,
   "metadata": {},
   "outputs": [
    {
     "data": {
      "image/png": "[encoded data removed]",
      "text/plain": [
       "<Figure size 1008x504 with 1 Axes>"
      ]
     },
     "metadata": {
      "needs_background": "light"
     },
     "output_type": "display_data"
    }
   ],
   "source": [
    "# Extract the years first from the data \n",
    "years = movie_data['Year']\n",
    "\n",
    "# Count per year\n",
    "year_counts =years.value_counts()\n",
    "\n",
    "# Select top performing years\n",
    "top_years = year_counts.head(10)\n",
    "\n",
    "# Plot the top performing years\n",
    "plt.figure(figsize=(14,7))\n",
    "top_years.plot(kind='bar')\n",
    "plt.title('TopPerforming Year')\n",
    "plt.xlabel('Year')\n",
    "plt.ylabel('Count')\n",
    "plt.xticks(rotation=45)\n",
    "plt.show()"
   ]
  },
  {
   "cell_type": "markdown",
   "metadata": {},
   "source": [
    "---"
   ]
  },
  {
   "cell_type": "markdown",
   "metadata": {},
   "source": [
    "## Bivariate Analysis : \n",
    "** Votes and Ratings"
   ]
  },
  {
   "cell_type": "code",
   "execution_count": 124,
   "metadata": {},
   "outputs": [
    {
     "data": {
      "image/png": "[encoded data removed]",
      "text/plain": [
       "<Figure size 720x432 with 1 Axes>"
      ]
     },
     "metadata": {
      "needs_background": "light"
     },
     "output_type": "display_data"
    }
   ],
   "source": [
    "# Plotting 'original_title'against popularity (top 10 movies)\n",
    "plt.figure(figsize=(10, 6))\n",
    "sns.scatterplot(data=movie_data, x = 'Votes_numeric', y = 'Rating')\n",
    "plt.title('Top 10 Votes by Rating')\n",
    "plt.xlabel('Votes')\n",
    "plt.ylabel('Rating')\n",
    "plt.gca().invert_yaxis()\n",
    "plt.show()"
   ]
  },
  {
   "cell_type": "code",
   "execution_count": 136,
   "metadata": {},
   "outputs": [],
   "source": [
    "# Plotting 'original_title'against popularity (top 10 movies)\n",
    "plt.figure(figsize=(10, 6))\n",
    "sns.scatterplot(data=movie_data, x = 'Genre', y = 'Rating')\n",
    "plt.title('Top 10 Genre by Rating')\n",
    "plt.xlabel('Genre')\n",
    "plt.ylabel('Rating')\n",
    "plt.gca().invert_yaxis()\n",
    "plt.show()"
   ]
  },
  {
   "cell_type": "code",
   "execution_count": 119,
   "metadata": {},
   "outputs": [
    {
     "data": {
      "image/png": "[encoded data removed]",
      "text/plain": [
       "<Figure size 576x432 with 2 Axes>"
      ]
     },
     "metadata": {
      "needs_background": "light"
     },
     "output_type": "display_data"
    }
   ],
   "source": [
    "# Correlation matrix using a heatmap\n",
    "correlation_matrix = movie_data.corr()\n",
    "plt.figure(figsize=(8, 6))  # Increase the figure size\n",
    "sns.heatmap(correlation_matrix, annot=True, cmap=\"coolwarm\", fmt=\".2f\", linewidths=0.5)  # Add annotations and adjust line widths\n",
    "plt.title(\"Correlation Heatmap\")\n",
    "plt.xticks(rotation=45)  # Rotate x-axis labels for better visibility\n",
    "plt.show()"
   ]
  },
  {
   "cell_type": "markdown",
   "metadata": {},
   "source": []
  },
  {
   "cell_type": "markdown",
   "metadata": {},
   "source": [
    "## Feature values   Engineering\n",
    "#### One hot Encoding \"Genre\""
   ]
  },
  {
   "cell_type": "code",
   "execution_count": null,
   "metadata": {},
   "outputs": [],
   "source": [
    "# Identify the Ctegorical Fetaures\n",
    "categorical_features = ['Genre', 'Director','Actor 1','Actor 2','Actor 3']\n",
    "categorical_transformer = Pipeline(steps=[\n",
    "    \n",
    "])"
   ]
  }
 ],
 "metadata": {
  "kernelspec": {
   "display_name": "learn-env",
   "language": "python",
   "name": "python3"
  },
  "language_info": {
   "codemirror_mode": {
    "name": "ipython",
    "version": 3
   },
   "file_extension": ".py",
   "mimetype": "text/x-python",
   "name": "python",
   "nbconvert_exporter": "python",
   "pygments_lexer": "ipython3",
   "version": "3.8.5"
  },
  "orig_nbformat": 4
 },
 "nbformat": 4,
 "nbformat_minor": 2
}
